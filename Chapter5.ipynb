{
 "cells": [
  {
   "cell_type": "markdown",
   "metadata": {},
   "source": [
    "# リサンプリング法"
   ]
  },
  {
   "cell_type": "code",
   "execution_count": 41,
   "metadata": {},
   "outputs": [],
   "source": [
    "import pandas as pd\n",
    "import numpy as np\n",
    "import matplotlib.pyplot as plt\n",
    "\n",
    "import sklearn.linear_model as skl_lm\n",
    "from sklearn.preprocessing import PolynomialFeatures\n",
    "from sklearn.metrics import mean_squared_error\n",
    "from sklearn.model_selection import train_test_split, LeaveOneOut, KFold, cross_val_score"
   ]
  },
  {
   "cell_type": "code",
   "execution_count": 3,
   "metadata": {},
   "outputs": [
    {
     "data": {
      "text/html": [
       "<div>\n",
       "<style scoped>\n",
       "    .dataframe tbody tr th:only-of-type {\n",
       "        vertical-align: middle;\n",
       "    }\n",
       "\n",
       "    .dataframe tbody tr th {\n",
       "        vertical-align: top;\n",
       "    }\n",
       "\n",
       "    .dataframe thead th {\n",
       "        text-align: right;\n",
       "    }\n",
       "</style>\n",
       "<table border=\"1\" class=\"dataframe\">\n",
       "  <thead>\n",
       "    <tr style=\"text-align: right;\">\n",
       "      <th></th>\n",
       "      <th>mpg</th>\n",
       "      <th>cylinders</th>\n",
       "      <th>displacement</th>\n",
       "      <th>horsepower</th>\n",
       "      <th>weight</th>\n",
       "      <th>acceleration</th>\n",
       "      <th>year</th>\n",
       "      <th>origin</th>\n",
       "      <th>name</th>\n",
       "    </tr>\n",
       "  </thead>\n",
       "  <tbody>\n",
       "    <tr>\n",
       "      <th>0</th>\n",
       "      <td>18.0</td>\n",
       "      <td>8</td>\n",
       "      <td>307.0</td>\n",
       "      <td>130.0</td>\n",
       "      <td>3504</td>\n",
       "      <td>12.0</td>\n",
       "      <td>70</td>\n",
       "      <td>1</td>\n",
       "      <td>chevrolet chevelle malibu</td>\n",
       "    </tr>\n",
       "    <tr>\n",
       "      <th>1</th>\n",
       "      <td>15.0</td>\n",
       "      <td>8</td>\n",
       "      <td>350.0</td>\n",
       "      <td>165.0</td>\n",
       "      <td>3693</td>\n",
       "      <td>11.5</td>\n",
       "      <td>70</td>\n",
       "      <td>1</td>\n",
       "      <td>buick skylark 320</td>\n",
       "    </tr>\n",
       "    <tr>\n",
       "      <th>2</th>\n",
       "      <td>18.0</td>\n",
       "      <td>8</td>\n",
       "      <td>318.0</td>\n",
       "      <td>150.0</td>\n",
       "      <td>3436</td>\n",
       "      <td>11.0</td>\n",
       "      <td>70</td>\n",
       "      <td>1</td>\n",
       "      <td>plymouth satellite</td>\n",
       "    </tr>\n",
       "  </tbody>\n",
       "</table>\n",
       "</div>"
      ],
      "text/plain": [
       "    mpg  cylinders  displacement  horsepower  weight  acceleration  year  \\\n",
       "0  18.0          8         307.0       130.0    3504          12.0    70   \n",
       "1  15.0          8         350.0       165.0    3693          11.5    70   \n",
       "2  18.0          8         318.0       150.0    3436          11.0    70   \n",
       "\n",
       "   origin                       name  \n",
       "0       1  chevrolet chevelle malibu  \n",
       "1       1          buick skylark 320  \n",
       "2       1         plymouth satellite  "
      ]
     },
     "execution_count": 3,
     "metadata": {},
     "output_type": "execute_result"
    }
   ],
   "source": [
    "auto = pd.read_csv('Datasets/Auto.csv', na_values='?').dropna()\n",
    "auto.head(3)"
   ]
  },
  {
   "cell_type": "code",
   "execution_count": 7,
   "metadata": {},
   "outputs": [
    {
     "name": "stdout",
     "output_type": "stream",
     "text": [
      "<class 'pandas.core.frame.DataFrame'>\n",
      "Int64Index: 392 entries, 0 to 396\n",
      "Data columns (total 9 columns):\n",
      "mpg             392 non-null float64\n",
      "cylinders       392 non-null int64\n",
      "displacement    392 non-null float64\n",
      "horsepower      392 non-null float64\n",
      "weight          392 non-null int64\n",
      "acceleration    392 non-null float64\n",
      "year            392 non-null int64\n",
      "origin          392 non-null int64\n",
      "name            392 non-null object\n",
      "dtypes: float64(4), int64(4), object(1)\n",
      "memory usage: 30.6+ KB\n"
     ]
    }
   ],
   "source": [
    "auto.info()"
   ]
  },
  {
   "cell_type": "markdown",
   "metadata": {},
   "source": [
    "## 交差検証"
   ]
  },
  {
   "cell_type": "markdown",
   "metadata": {},
   "source": [
    "### ホールドアウト検証\n",
    "\n",
    "ある観測データについて統計的学習法を当てはめた場合のテスト誤差を推定したいとする。\n",
    "\n",
    "ホールドアウト検証では、まず観測データをランダムに訓練データと検証データに分割する。モデルは訓練データに当てはめられ、このモデルを使い検証データにおいて応答変数を予測する。ホールドアウト検証誤差の評価としては、応答変数が量的であれば通常MSEが使われるが、これがテスト誤差の推定値となる。\n",
    "\n",
    "``Auto``データセットをつかってホールドアウト検証を説明する。このデータセットにおける``mpg``と``horsepower``の関係は非線形のようであり、3時やそれ以上の項をつかうことでさらに良い結果が得られるのではないかと考えるのは自然なことである。線形回帰においては高次の項についてのp値を調べることでこれを判断したが同様のことがホールドアウト検証でも判断できる。まず392個のデータを196個の訓練データと196個の検証データに分割する。さまざまな回帰モデルを訓練データにあてはめ、検証データに使った際の性能を表すものとしてホールドアウト検証MSEを計算する。\n",
    "\n",
    "この結果はデータセットの分割の仕方に依存する（あるデータセットはあるモデル族（線形から10次式まで）と対応し、さらにこれらはあるテストMSEと対応する）ことに注意。つまりデータセットの分割の仕方を変えると、計算しているものも（概念としては同じ「テストMSE」だが）変わる。"
   ]
  },
  {
   "cell_type": "markdown",
   "metadata": {},
   "source": [
    "### 1つ抜き交差検証（LOOCV: leave-one-out cross-validation）\n",
    "\n",
    "これはホールドアウト検証に似ているが、その欠点を考慮し改善したものである。ホールドアウト検証ではデータセットを2つの同等の大きさのデータに分割したが、LOOCVは1つのデータ$(x_1, y_1)$のみを検証データとして用いる。残りのデータ$\\{(x_2, y_2), \\ldots, (x_n, y_n)\\}$は訓練データとなる。統計的学習法を$n-1$個の訓練データに当てはめ、取りおきした値$x_1$を用いて予測値$\\hat{y}_1$を得る。$(x_1,y_1)$は当てはめる際には使っていないので、$\\mathrm{MSE}_1 = (y_1 - \\hat{y}_1)^2$は近似的にテスト誤差の不偏推定値となる。しかし、バイアスはないものの、$\\mathrm{MSE}_1$はテスト誤差の良い推定値ではない。たった1つのデータ$(x_1, y_1)$によるため、分散が大きいためである。\n",
    "\n",
    "そこでこの手続きを$n$回繰り返すことにより$n$個の2乗誤差$\\mathrm{MSE}_1, \\ldots, \\mathrm{MSE}_n$を得る。これらの平均をLOOCVにおけるテストMSEの推定値とする：\n",
    "\n",
    "\\begin{equation}\n",
    "    \\mathrm{CV}_{(n)} = \\frac{1}{n}\\sum_{i=1}^n \\mathrm{MSE}_i\n",
    "\\end{equation}\n",
    "\n",
    "LOOCVはホールドアウト検証に比べていくつかの大きな長所がある。\n",
    "まずバイアスがかなり小さい。LOOCVでは繰り返し$n-1$個の訓練データを用いで統計的学習法を当てはめる。この$n-1$個のデータは手元にあるデータのほぼすべてである。ホールドアウト検証では通常訓練データはデータ全体の半分程度であるから、これは大きな違いである。結果として、LOOCV誤差はホールドアウト検証ほどばテスト誤差を過大評価しない。\n",
    "次に、訓練データと検証データをランダムに分割することによりホールドアウト検証では毎回異なる結果を得るが、LOOCVは毎回同じ結果となる。訓練データと検証データに分割する際のランダム性が無いのである。\n",
    "\n",
    "LOOCVは$n$回モデルを当てはめることになるため、実装するには高い計算量を必要とする可能性があることはLOOCVの欠点である。しかし最小二乗法による線形または多項式回帰では以下の式によりLOOCVをただ1つのモデルを当てはめるのと同じ計算量で行うことができる（$h_i$はてこ比）：\n",
    "\\begin{equation}\n",
    "    \\mathrm{CV}_{(n)} = \\frac{1}{n}\\sum_{i=1}^n \\left( \\frac{y_i - \\hat{y}_i}{1 - h_i} \\right)\n",
    "\\end{equation}"
   ]
  },
  {
   "cell_type": "markdown",
   "metadata": {},
   "source": [
    "### $k$分割交差検証\n",
    "\n",
    "$k$分割交差検証においては、観測データをおよそ同じサイズの$k$個のグループまたはブロックに分割する。最初のグループを検証に使い、残りの$k-1$個のグループを使ってモデルを当てはめる。その後平均2乗誤差$\\mathrm{MSE}_1$を取りおきしたグループで計算する。これを$k$回繰り返し、毎回異なるグループを検証データとして使用する。結果としてテスト誤差の推定値は$\\mathrm{MSE}_1, \\ldots, \\mathrm{MSE}_k$の$k$個が得られる。これらの平均をとることにより$k$分割交差検証の推定値を求める：\n",
    "\n",
    "\\begin{equation}\n",
    "    \\mathrm{CV}_{(k)} = \\frac{1}{k}\\sum_i^{k}\\mathrm{MSE}_i\n",
    "\\end{equation}\n",
    "\n",
    "LOOCVは$k$分割交差検証で$k=n$とした特別な場合であることが容易にわかる。"
   ]
  },
  {
   "cell_type": "markdown",
   "metadata": {},
   "source": [
    "## 図5.2\n",
    "\n",
    "ホールドアウト検証を``auto``データに適用し、``horsepower``の多項式で``mpg``を予測した時のテスト誤差を推定する。左は訓練データと検証データに分割したときの検証MSE（つまりある分割の仕方でデータセットは分割されている）。右はデータを訓練用と検証用に毎回ランダムに分割し直して、ホールドアウト検証を10回繰り返した。このアプローチにおける検証MSEのばらつきが分かる。また、右から線形モデルはこのデータには適していないことがわかる。"
   ]
  },
  {
   "cell_type": "code",
   "execution_count": 71,
   "metadata": {},
   "outputs": [
    {
     "data": {
      "image/png": "[encoded data removed]",
      "text/plain": [
       "<Figure size 720x288 with 2 Axes>"
      ]
     },
     "metadata": {
      "needs_background": "light"
     },
     "output_type": "display_data"
    }
   ],
   "source": [
    "t_prop = 0.5\n",
    "# 次数\n",
    "p_order = np.arange(1,11)\n",
    "# 描きたい曲線の数\n",
    "r_state = np.arange(0,10)\n",
    "\n",
    "X, Y = np.meshgrid(p_order, r_state, indexing='ij')\n",
    "# MSEを入れる行列\n",
    "Z = np.zeros((p_order.size,r_state.size))\n",
    "\n",
    "regr = skl_lm.LinearRegression()\n",
    "\n",
    "# ndenumerate(A)は、Aの、(行番号, 列番号), 値を出力するイテレータ\n",
    "for (i,j), v in np.ndenumerate(Z):\n",
    "    # X[i,j] = i+1, 添字iとXの成分から1次式すべて計算→2次式すべて計算→・・・となっていることがわかる\n",
    "    poly = PolynomialFeatures(int(X[i,j]))\n",
    "    # reshapeの第1引数が-1のときは「第2引数の長さ」の配列を複数生成する\n",
    "    # 説明変数ベクトルから計画行列を作成する\n",
    "    # DataFrame or Seriesのvalues属性でndarrayを取得\n",
    "    X_poly = poly.fit_transform(auto.horsepower.values.reshape(-1,1))\n",
    "    \n",
    "    # test_sizeに少数で検証データの割合を指定する\n",
    "    # random_stateに乱数生成の種を指定する\n",
    "    # numpy.ravel()はA.ravel()で一次元配列化するメソッド\n",
    "    X_train, X_test, y_train, y_test = train_test_split(X_poly, auto.mpg.ravel(), test_size=t_prop, random_state=Y[i,j])\n",
    "    \n",
    "    regr.fit(X_train, y_train)\n",
    "    pred = regr.predict(X_test)\n",
    "    # i=0,...,0(10個),1,...,1,..., j=0,1,2,...,9,0,1,...つまりまず1行目に1次式のMSEが格納される\n",
    "    Z[i,j]= mean_squared_error(y_test, pred)\n",
    "    \n",
    "fig, (ax1, ax2) = plt.subplots(1,2, figsize=(10,4))\n",
    "\n",
    "# Left plot (first split)\n",
    "ax1.plot(X.T[0],Z.T[0], '-o')\n",
    "ax1.set_title('Random split of the data set')\n",
    "\n",
    "# Right plot (all splits)\n",
    "# XもZもある色＝ある列\n",
    "ax2.plot(X,Z)\n",
    "ax2.set_title('10 random splits of the data set')\n",
    "\n",
    "for ax in fig.axes:\n",
    "    ax.set_ylabel('Mean Squared Error')\n",
    "    ax.set_ylim(15,30)\n",
    "    ax.set_xlabel('Degree of Polynomial')\n",
    "    ax.set_xlim(0.5,10.5)\n",
    "    ax.set_xticks(range(2,11,2));"
   ]
  },
  {
   "cell_type": "markdown",
   "metadata": {},
   "source": [
    "## 図5.4\n",
    "\n",
    "``auto``データセットにおいて``horsepower``の多項式で``mpg``を予測したときのテスト誤差を推定するためにLOOCVを適用した。左はLOOCV誤差曲線であり、右は10分割交差検証を9回行った。毎回データをランダムに10分割した。図は9本の10分割交差検証誤差曲線であり、その違いはわずかである。"
   ]
  },
  {
   "cell_type": "code",
   "execution_count": 91,
   "metadata": {},
   "outputs": [],
   "source": [
    "p_order = np.arange(1,11)\n",
    "r_state = np.arange(0,10)\n",
    "\n",
    "# LeaveOneOut CV\n",
    "regr = skl_lm.LinearRegression()\n",
    "loo = LeaveOneOut()\n",
    "# DataFrameを与えて検証回数を取得\n",
    "loo.get_n_splits(auto)\n",
    "scores = list()\n",
    "\n",
    "for i in p_order:\n",
    "    poly = PolynomialFeatures(i)\n",
    "    X_poly = poly.fit_transform(auto.horsepower.values.reshape(-1,1))\n",
    "    score = cross_val_score(regr, X_poly, auto.mpg, cv=loo, scoring='neg_mean_squared_error').mean()\n",
    "    scores.append(score)\n",
    "\n",
    "# k-fold CV\n",
    "folds = 10\n",
    "elements = len(auto.index)\n",
    "\n",
    "X, Y = np.meshgrid(p_order, r_state, indexing='ij')\n",
    "Z = np.zeros((p_order.size,r_state.size))\n",
    "\n",
    "regr = skl_lm.LinearRegression()\n",
    "\n",
    "for (i,j),v in np.ndenumerate(Z):\n",
    "    poly = PolynomialFeatures(X[i,j])\n",
    "    X_poly = poly.fit_transform(auto.horsepower.values.reshape(-1,1))\n",
    "    kf_10 = KFold(n_splits=folds, random_state=Y[i,j])\n",
    "    Z[i,j] = cross_val_score(regr, X_poly, auto.mpg, cv=kf_10, scoring='neg_mean_squared_error').mean()"
   ]
  },
  {
   "cell_type": "code",
   "execution_count": 92,
   "metadata": {
    "scrolled": true
   },
   "outputs": [
    {
     "data": {
      "image/png": "[encoded data removed]",
      "text/plain": [
       "<Figure size 720x288 with 2 Axes>"
      ]
     },
     "metadata": {
      "needs_background": "light"
     },
     "output_type": "display_data"
    }
   ],
   "source": [
    "fig, (ax1, ax2) = plt.subplots(1,2, figsize=(10,4))\n",
    "\n",
    "# Note: cross_val_score() method return negative values for the scores.\n",
    "# https://github.com/scikit-learn/scikit-learn/issues/2439\n",
    "\n",
    "# Left plot\n",
    "ax1.plot(p_order, np.array(scores)*-1, '-o')\n",
    "ax1.set_title('LOOCV')\n",
    "\n",
    "# Right plot\n",
    "ax2.plot(X,Z*-1)\n",
    "ax2.set_title('10-fold CV')\n",
    "\n",
    "for ax in fig.axes:\n",
    "    ax.set_ylabel('Mean Squared Error')\n",
    "    ax.set_ylim(15,30)\n",
    "    ax.set_xlabel('Degree of Polynomial')\n",
    "    ax.set_xlim(0.5,10.5)\n",
    "    ax.set_xticks(range(2,11,2));"
   ]
  },
  {
   "cell_type": "markdown",
   "metadata": {},
   "source": [
    "## Reference"
   ]
  },
  {
   "cell_type": "markdown",
   "metadata": {},
   "source": [
    "- 落海浩，首藤信通．Rによる統計的学習入門．朝倉書店，2018，403p．\n",
    "- https://github.com/JWarmenhoven/ISLR-python"
   ]
  }
 ],
 "metadata": {
  "kernelspec": {
   "display_name": "Python 3",
   "language": "python",
   "name": "python3"
  },
  "language_info": {
   "codemirror_mode": {
    "name": "ipython",
    "version": 3
   },
   "file_extension": ".py",
   "mimetype": "text/x-python",
   "name": "python",
   "nbconvert_exporter": "python",
   "pygments_lexer": "ipython3",
   "version": "3.7.1"
  }
 },
 "nbformat": 4,
 "nbformat_minor": 2
}
